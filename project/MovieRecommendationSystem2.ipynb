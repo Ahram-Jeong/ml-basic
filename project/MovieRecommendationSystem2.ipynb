{
 "cells": [
  {
   "metadata": {},
   "cell_type": "markdown",
   "source": "### 3. Collaborative Filtering - 협업 필터링 (사용자 리뷰 기반)",
   "id": "f38115d0e75b27dc"
  },
  {
   "metadata": {
    "ExecuteTime": {
     "end_time": "2024-07-18T11:13:42.347794Z",
     "start_time": "2024-07-18T11:13:41.279095Z"
    }
   },
   "cell_type": "code",
   "source": [
    "import pandas as pd\n",
    "from surprise import Reader, Dataset, SVD\n",
    "from surprise.model_selection import cross_validate"
   ],
   "id": "9e5456888ab33a9d",
   "outputs": [],
   "execution_count": 1
  },
  {
   "metadata": {
    "ExecuteTime": {
     "end_time": "2024-07-18T11:13:42.420851Z",
     "start_time": "2024-07-18T11:13:42.347794Z"
    }
   },
   "cell_type": "code",
   "source": [
    "ratings = pd.read_csv(\"../data/ratings_small.csv\")\n",
    "ratings.head()"
   ],
   "id": "71dd4341eb355180",
   "outputs": [
    {
     "data": {
      "text/plain": [
       "   userId  movieId  rating   timestamp\n",
       "0       1       31     2.5  1260759144\n",
       "1       1     1029     3.0  1260759179\n",
       "2       1     1061     3.0  1260759182\n",
       "3       1     1129     2.0  1260759185\n",
       "4       1     1172     4.0  1260759205"
      ],
      "text/html": [
       "<div>\n",
       "<style scoped>\n",
       "    .dataframe tbody tr th:only-of-type {\n",
       "        vertical-align: middle;\n",
       "    }\n",
       "\n",
       "    .dataframe tbody tr th {\n",
       "        vertical-align: top;\n",
       "    }\n",
       "\n",
       "    .dataframe thead th {\n",
       "        text-align: right;\n",
       "    }\n",
       "</style>\n",
       "<table border=\"1\" class=\"dataframe\">\n",
       "  <thead>\n",
       "    <tr style=\"text-align: right;\">\n",
       "      <th></th>\n",
       "      <th>userId</th>\n",
       "      <th>movieId</th>\n",
       "      <th>rating</th>\n",
       "      <th>timestamp</th>\n",
       "    </tr>\n",
       "  </thead>\n",
       "  <tbody>\n",
       "    <tr>\n",
       "      <th>0</th>\n",
       "      <td>1</td>\n",
       "      <td>31</td>\n",
       "      <td>2.5</td>\n",
       "      <td>1260759144</td>\n",
       "    </tr>\n",
       "    <tr>\n",
       "      <th>1</th>\n",
       "      <td>1</td>\n",
       "      <td>1029</td>\n",
       "      <td>3.0</td>\n",
       "      <td>1260759179</td>\n",
       "    </tr>\n",
       "    <tr>\n",
       "      <th>2</th>\n",
       "      <td>1</td>\n",
       "      <td>1061</td>\n",
       "      <td>3.0</td>\n",
       "      <td>1260759182</td>\n",
       "    </tr>\n",
       "    <tr>\n",
       "      <th>3</th>\n",
       "      <td>1</td>\n",
       "      <td>1129</td>\n",
       "      <td>2.0</td>\n",
       "      <td>1260759185</td>\n",
       "    </tr>\n",
       "    <tr>\n",
       "      <th>4</th>\n",
       "      <td>1</td>\n",
       "      <td>1172</td>\n",
       "      <td>4.0</td>\n",
       "      <td>1260759205</td>\n",
       "    </tr>\n",
       "  </tbody>\n",
       "</table>\n",
       "</div>"
      ]
     },
     "execution_count": 2,
     "metadata": {},
     "output_type": "execute_result"
    }
   ],
   "execution_count": 2
  },
  {
   "metadata": {
    "ExecuteTime": {
     "end_time": "2024-07-18T11:13:42.451941Z",
     "start_time": "2024-07-18T11:13:42.424848Z"
    }
   },
   "cell_type": "code",
   "source": "ratings[\"rating\"].min(), ratings[\"rating\"].max()",
   "id": "9465647a53387544",
   "outputs": [
    {
     "data": {
      "text/plain": [
       "(0.5, 5.0)"
      ]
     },
     "execution_count": 3,
     "metadata": {},
     "output_type": "execute_result"
    }
   ],
   "execution_count": 3
  },
  {
   "metadata": {
    "ExecuteTime": {
     "end_time": "2024-07-18T11:13:42.486792Z",
     "start_time": "2024-07-18T11:13:42.451941Z"
    }
   },
   "cell_type": "code",
   "source": "reader = Reader(rating_scale = (0.5, 5))",
   "id": "937a2914b1387dcc",
   "outputs": [],
   "execution_count": 4
  },
  {
   "metadata": {
    "ExecuteTime": {
     "end_time": "2024-07-18T11:13:42.913225Z",
     "start_time": "2024-07-18T11:13:42.486792Z"
    }
   },
   "cell_type": "code",
   "source": [
    "data = Dataset.load_from_df(ratings[[\"userId\", \"movieId\", \"rating\"]], reader = reader)\n",
    "data"
   ],
   "id": "750f8fda744284d1",
   "outputs": [
    {
     "data": {
      "text/plain": [
       "<surprise.dataset.DatasetAutoFolds at 0x1c9ae3f9ed0>"
      ]
     },
     "execution_count": 5,
     "metadata": {},
     "output_type": "execute_result"
    }
   ],
   "execution_count": 5
  },
  {
   "metadata": {
    "ExecuteTime": {
     "end_time": "2024-07-18T11:13:42.927389Z",
     "start_time": "2024-07-18T11:13:42.913225Z"
    }
   },
   "cell_type": "code",
   "source": "svd = SVD(random_state = 0)",
   "id": "df5bdfd07eb522d1",
   "outputs": [],
   "execution_count": 6
  },
  {
   "metadata": {
    "ExecuteTime": {
     "end_time": "2024-07-18T11:13:50.732421Z",
     "start_time": "2024-07-18T11:13:42.927389Z"
    }
   },
   "cell_type": "code",
   "source": "cross_validate(svd, data, measures = [\"RMSE\", \"MAE\"], cv = 5, verbose = True)",
   "id": "4d8259d4fd41cd3b",
   "outputs": [
    {
     "name": "stdout",
     "output_type": "stream",
     "text": [
      "Evaluating RMSE, MAE of algorithm SVD on 5 split(s).\n",
      "\n",
      "                  Fold 1  Fold 2  Fold 3  Fold 4  Fold 5  Mean    Std     \n",
      "RMSE (testset)    0.8896  0.8980  0.8939  0.9084  0.8956  0.8971  0.0063  \n",
      "MAE (testset)     0.6843  0.6928  0.6885  0.7007  0.6881  0.6909  0.0056  \n",
      "Fit time          1.33    1.09    1.23    1.13    1.18    1.19    0.08    \n",
      "Test time         0.12    0.12    0.19    0.17    0.17    0.15    0.03    \n"
     ]
    },
    {
     "data": {
      "text/plain": [
       "{'test_rmse': array([0.88959948, 0.89797948, 0.89385001, 0.90835343, 0.89561682]),\n",
       " 'test_mae': array([0.68428506, 0.69280191, 0.68849837, 0.70065355, 0.6880974 ]),\n",
       " 'fit_time': (1.331284999847412,\n",
       "  1.0854251384735107,\n",
       "  1.2309191226959229,\n",
       "  1.1345264911651611,\n",
       "  1.179175853729248),\n",
       " 'test_time': (0.11976838111877441,\n",
       "  0.11770892143249512,\n",
       "  0.18679547309875488,\n",
       "  0.16550326347351074,\n",
       "  0.17290186882019043)}"
      ]
     },
     "execution_count": 7,
     "metadata": {},
     "output_type": "execute_result"
    }
   ],
   "execution_count": 7
  }
 ],
 "metadata": {
  "kernelspec": {
   "display_name": "Python 3",
   "language": "python",
   "name": "python3"
  },
  "language_info": {
   "codemirror_mode": {
    "name": "ipython",
    "version": 2
   },
   "file_extension": ".py",
   "mimetype": "text/x-python",
   "name": "python",
   "nbconvert_exporter": "python",
   "pygments_lexer": "ipython2",
   "version": "2.7.6"
  }
 },
 "nbformat": 4,
 "nbformat_minor": 5
}
