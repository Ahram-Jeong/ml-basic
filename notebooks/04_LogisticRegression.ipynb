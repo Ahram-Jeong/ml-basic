{
 "cells": [
  {
   "metadata": {},
   "cell_type": "markdown",
   "source": "# 4. Logistic Regression",
   "id": "e6134d6bc0931208"
  },
  {
   "metadata": {},
   "cell_type": "markdown",
   "source": "### 공부 시간에 따른 자격증 시험 합격 가능성",
   "id": "37941183b350692e"
  },
  {
   "metadata": {
    "ExecuteTime": {
     "end_time": "2024-07-14T09:13:21.044804Z",
     "start_time": "2024-07-14T09:13:19.318888Z"
    }
   },
   "cell_type": "code",
   "source": [
    "import numpy as np\n",
    "import pandas as pd\n",
    "import matplotlib.pyplot as plt"
   ],
   "id": "4e7f385d388a440e",
   "outputs": [],
   "execution_count": 1
  },
  {
   "metadata": {
    "ExecuteTime": {
     "end_time": "2024-07-14T09:13:21.065095Z",
     "start_time": "2024-07-14T09:13:21.044804Z"
    }
   },
   "cell_type": "code",
   "source": [
    "dataset = pd.read_csv(\"../data/LogisticRegressionData.csv\")\n",
    "X = dataset.iloc[:, :-1].values\n",
    "y = dataset.iloc[:, -1].values"
   ],
   "id": "a10cfeba1d2eef6b",
   "outputs": [],
   "execution_count": 2
  },
  {
   "metadata": {},
   "cell_type": "markdown",
   "source": "### 데이터 분리",
   "id": "f078c7ac3edf0ea3"
  },
  {
   "metadata": {
    "ExecuteTime": {
     "end_time": "2024-07-14T09:13:22.392277Z",
     "start_time": "2024-07-14T09:13:21.065095Z"
    }
   },
   "cell_type": "code",
   "source": [
    "from sklearn.model_selection import train_test_split\n",
    "X_train, X_test, y_train, y_test = train_test_split(X, y, test_size = 0.2, random_state = 0)"
   ],
   "id": "a47d4a2bee86a6c1",
   "outputs": [],
   "execution_count": 3
  },
  {
   "metadata": {},
   "cell_type": "markdown",
   "source": "### 학습 (로지스틱 회귀 모델)",
   "id": "bdcc903fdb6c8ae5"
  },
  {
   "metadata": {
    "ExecuteTime": {
     "end_time": "2024-07-14T09:13:22.551709Z",
     "start_time": "2024-07-14T09:13:22.392277Z"
    }
   },
   "cell_type": "code",
   "source": [
    "from sklearn.linear_model import LogisticRegression\n",
    "classifier = LogisticRegression()\n",
    "classifier.fit(X_train, y_train)"
   ],
   "id": "85ad81a8ccf36229",
   "outputs": [
    {
     "data": {
      "text/plain": [
       "LogisticRegression()"
      ],
      "text/html": [
       "<style>#sk-container-id-1 {color: black;background-color: white;}#sk-container-id-1 pre{padding: 0;}#sk-container-id-1 div.sk-toggleable {background-color: white;}#sk-container-id-1 label.sk-toggleable__label {cursor: pointer;display: block;width: 100%;margin-bottom: 0;padding: 0.3em;box-sizing: border-box;text-align: center;}#sk-container-id-1 label.sk-toggleable__label-arrow:before {content: \"▸\";float: left;margin-right: 0.25em;color: #696969;}#sk-container-id-1 label.sk-toggleable__label-arrow:hover:before {color: black;}#sk-container-id-1 div.sk-estimator:hover label.sk-toggleable__label-arrow:before {color: black;}#sk-container-id-1 div.sk-toggleable__content {max-height: 0;max-width: 0;overflow: hidden;text-align: left;background-color: #f0f8ff;}#sk-container-id-1 div.sk-toggleable__content pre {margin: 0.2em;color: black;border-radius: 0.25em;background-color: #f0f8ff;}#sk-container-id-1 input.sk-toggleable__control:checked~div.sk-toggleable__content {max-height: 200px;max-width: 100%;overflow: auto;}#sk-container-id-1 input.sk-toggleable__control:checked~label.sk-toggleable__label-arrow:before {content: \"▾\";}#sk-container-id-1 div.sk-estimator input.sk-toggleable__control:checked~label.sk-toggleable__label {background-color: #d4ebff;}#sk-container-id-1 div.sk-label input.sk-toggleable__control:checked~label.sk-toggleable__label {background-color: #d4ebff;}#sk-container-id-1 input.sk-hidden--visually {border: 0;clip: rect(1px 1px 1px 1px);clip: rect(1px, 1px, 1px, 1px);height: 1px;margin: -1px;overflow: hidden;padding: 0;position: absolute;width: 1px;}#sk-container-id-1 div.sk-estimator {font-family: monospace;background-color: #f0f8ff;border: 1px dotted black;border-radius: 0.25em;box-sizing: border-box;margin-bottom: 0.5em;}#sk-container-id-1 div.sk-estimator:hover {background-color: #d4ebff;}#sk-container-id-1 div.sk-parallel-item::after {content: \"\";width: 100%;border-bottom: 1px solid gray;flex-grow: 1;}#sk-container-id-1 div.sk-label:hover label.sk-toggleable__label {background-color: #d4ebff;}#sk-container-id-1 div.sk-serial::before {content: \"\";position: absolute;border-left: 1px solid gray;box-sizing: border-box;top: 0;bottom: 0;left: 50%;z-index: 0;}#sk-container-id-1 div.sk-serial {display: flex;flex-direction: column;align-items: center;background-color: white;padding-right: 0.2em;padding-left: 0.2em;position: relative;}#sk-container-id-1 div.sk-item {position: relative;z-index: 1;}#sk-container-id-1 div.sk-parallel {display: flex;align-items: stretch;justify-content: center;background-color: white;position: relative;}#sk-container-id-1 div.sk-item::before, #sk-container-id-1 div.sk-parallel-item::before {content: \"\";position: absolute;border-left: 1px solid gray;box-sizing: border-box;top: 0;bottom: 0;left: 50%;z-index: -1;}#sk-container-id-1 div.sk-parallel-item {display: flex;flex-direction: column;z-index: 1;position: relative;background-color: white;}#sk-container-id-1 div.sk-parallel-item:first-child::after {align-self: flex-end;width: 50%;}#sk-container-id-1 div.sk-parallel-item:last-child::after {align-self: flex-start;width: 50%;}#sk-container-id-1 div.sk-parallel-item:only-child::after {width: 0;}#sk-container-id-1 div.sk-dashed-wrapped {border: 1px dashed gray;margin: 0 0.4em 0.5em 0.4em;box-sizing: border-box;padding-bottom: 0.4em;background-color: white;}#sk-container-id-1 div.sk-label label {font-family: monospace;font-weight: bold;display: inline-block;line-height: 1.2em;}#sk-container-id-1 div.sk-label-container {text-align: center;}#sk-container-id-1 div.sk-container {/* jupyter's `normalize.less` sets `[hidden] { display: none; }` but bootstrap.min.css set `[hidden] { display: none !important; }` so we also need the `!important` here to be able to override the default hidden behavior on the sphinx rendered scikit-learn.org. See: https://github.com/scikit-learn/scikit-learn/issues/21755 */display: inline-block !important;position: relative;}#sk-container-id-1 div.sk-text-repr-fallback {display: none;}</style><div id=\"sk-container-id-1\" class=\"sk-top-container\"><div class=\"sk-text-repr-fallback\"><pre>LogisticRegression()</pre><b>In a Jupyter environment, please rerun this cell to show the HTML representation or trust the notebook. <br />On GitHub, the HTML representation is unable to render, please try loading this page with nbviewer.org.</b></div><div class=\"sk-container\" hidden><div class=\"sk-item\"><div class=\"sk-estimator sk-toggleable\"><input class=\"sk-toggleable__control sk-hidden--visually\" id=\"sk-estimator-id-1\" type=\"checkbox\" checked><label for=\"sk-estimator-id-1\" class=\"sk-toggleable__label sk-toggleable__label-arrow\">LogisticRegression</label><div class=\"sk-toggleable__content\"><pre>LogisticRegression()</pre></div></div></div></div></div>"
      ]
     },
     "execution_count": 4,
     "metadata": {},
     "output_type": "execute_result"
    }
   ],
   "execution_count": 4
  },
  {
   "metadata": {},
   "cell_type": "markdown",
   "source": "### 예측",
   "id": "dc17bde3bd8934a5"
  },
  {
   "metadata": {
    "ExecuteTime": {
     "end_time": "2024-07-14T09:13:22.571099Z",
     "start_time": "2024-07-14T09:13:22.551709Z"
    }
   },
   "cell_type": "code",
   "source": [
    "# 6시간 공부\n",
    "classifier.predict([[6]])\n",
    "# 결과 1 : 합격으로 예측"
   ],
   "id": "49ef5b0914594902",
   "outputs": [
    {
     "data": {
      "text/plain": [
       "array([1], dtype=int64)"
      ]
     },
     "execution_count": 5,
     "metadata": {},
     "output_type": "execute_result"
    }
   ],
   "execution_count": 5
  },
  {
   "metadata": {
    "ExecuteTime": {
     "end_time": "2024-07-14T09:13:22.588618Z",
     "start_time": "2024-07-14T09:13:22.571099Z"
    }
   },
   "cell_type": "code",
   "source": [
    "classifier.predict_proba([[6]]) # 합격 확률 예측\n",
    "# 불합격 확률 14%, 합격 확률 86%"
   ],
   "id": "4c7b32a45c020ed2",
   "outputs": [
    {
     "data": {
      "text/plain": [
       "array([[0.14150735, 0.85849265]])"
      ]
     },
     "execution_count": 6,
     "metadata": {},
     "output_type": "execute_result"
    }
   ],
   "execution_count": 6
  },
  {
   "metadata": {
    "ExecuteTime": {
     "end_time": "2024-07-14T09:13:22.605048Z",
     "start_time": "2024-07-14T09:13:22.588618Z"
    }
   },
   "cell_type": "code",
   "source": [
    "# 4시간 공부\n",
    "classifier.predict([[4]])\n",
    "# 결과 0 : 불합격으로 예측"
   ],
   "id": "70e8f4503c392b06",
   "outputs": [
    {
     "data": {
      "text/plain": [
       "array([0], dtype=int64)"
      ]
     },
     "execution_count": 7,
     "metadata": {},
     "output_type": "execute_result"
    }
   ],
   "execution_count": 7
  },
  {
   "metadata": {
    "ExecuteTime": {
     "end_time": "2024-07-14T09:13:22.623859Z",
     "start_time": "2024-07-14T09:13:22.609221Z"
    }
   },
   "cell_type": "code",
   "source": [
    "classifier.predict_proba([[4]]) # 합격 확률 예측\n",
    "# 불합격 확률 62%, 합격 확률 38%"
   ],
   "id": "86c3e262cc7b877b",
   "outputs": [
    {
     "data": {
      "text/plain": [
       "array([[0.6249966, 0.3750034]])"
      ]
     },
     "execution_count": 8,
     "metadata": {},
     "output_type": "execute_result"
    }
   ],
   "execution_count": 8
  },
  {
   "metadata": {},
   "cell_type": "markdown",
   "source": "### 분류 결과 예측 (테스트 세트)",
   "id": "3048abe84272c4f9"
  },
  {
   "metadata": {
    "ExecuteTime": {
     "end_time": "2024-07-14T09:13:22.640455Z",
     "start_time": "2024-07-14T09:13:22.627861Z"
    }
   },
   "cell_type": "code",
   "source": [
    "y_pred = classifier.predict(X_test)\n",
    "y_pred # 예측 값"
   ],
   "id": "a92f4f7ed3df0f3",
   "outputs": [
    {
     "data": {
      "text/plain": [
       "array([1, 0, 1, 1], dtype=int64)"
      ]
     },
     "execution_count": 9,
     "metadata": {},
     "output_type": "execute_result"
    }
   ],
   "execution_count": 9
  },
  {
   "metadata": {
    "ExecuteTime": {
     "end_time": "2024-07-14T09:13:22.652507Z",
     "start_time": "2024-07-14T09:13:22.643451Z"
    }
   },
   "cell_type": "code",
   "source": "y_test # 실제 값 (테스트 세트)",
   "id": "c383564d9d851f95",
   "outputs": [
    {
     "data": {
      "text/plain": [
       "array([1, 0, 1, 0], dtype=int64)"
      ]
     },
     "execution_count": 10,
     "metadata": {},
     "output_type": "execute_result"
    }
   ],
   "execution_count": 10
  },
  {
   "metadata": {
    "ExecuteTime": {
     "end_time": "2024-07-14T09:13:22.672589Z",
     "start_time": "2024-07-14T09:13:22.655505Z"
    }
   },
   "cell_type": "code",
   "source": "X_test # 공부 시간 (테스트 세트)",
   "id": "2f7157ed668f18b4",
   "outputs": [
    {
     "data": {
      "text/plain": [
       "array([[ 8.6],\n",
       "       [ 1.2],\n",
       "       [10. ],\n",
       "       [ 4.5]])"
      ]
     },
     "execution_count": 11,
     "metadata": {},
     "output_type": "execute_result"
    }
   ],
   "execution_count": 11
  },
  {
   "metadata": {
    "ExecuteTime": {
     "end_time": "2024-07-14T09:13:22.696435Z",
     "start_time": "2024-07-14T09:13:22.676587Z"
    }
   },
   "cell_type": "code",
   "source": [
    "classifier.score(X_test, y_test) # 모델 평가\n",
    "# 전체 테스트 세트 4개 중 분류 예측을 맞힌 갯수 3개 -> 3/4 = 0.75"
   ],
   "id": "9093a7aec66061ac",
   "outputs": [
    {
     "data": {
      "text/plain": [
       "0.75"
      ]
     },
     "execution_count": 12,
     "metadata": {},
     "output_type": "execute_result"
    }
   ],
   "execution_count": 12
  },
  {
   "metadata": {},
   "cell_type": "markdown",
   "source": "### 데이터 시각화 (훈련 세트)",
   "id": "8dd9f59b2df71bec"
  },
  {
   "metadata": {
    "ExecuteTime": {
     "end_time": "2024-07-14T09:13:22.725750Z",
     "start_time": "2024-07-14T09:13:22.703422Z"
    }
   },
   "cell_type": "code",
   "source": [
    "X_range = np.arange(min(X), max(X), 0.1) # X의 최솟 값에서 최댓 값 까지의 범위를 0.1 단위로 잘라서 데이터 생성\n",
    "X_range"
   ],
   "id": "d0fa1103d5c7b6fd",
   "outputs": [
    {
     "name": "stderr",
     "output_type": "stream",
     "text": [
      "C:\\Users\\Public\\Documents\\ESTsoft\\CreatorTemp\\ipykernel_16468\\552214514.py:1: DeprecationWarning: Conversion of an array with ndim > 0 to a scalar is deprecated, and will error in future. Ensure you extract a single element from your array before performing this operation. (Deprecated NumPy 1.25.)\n",
      "  X_range = np.arange(min(X), max(X), 0.1) # X의 최솟 값에서 최댓 값 까지의 범위를 0.1 단위로 잘라서 데이터 생성\n"
     ]
    },
    {
     "data": {
      "text/plain": [
       "array([0.5, 0.6, 0.7, 0.8, 0.9, 1. , 1.1, 1.2, 1.3, 1.4, 1.5, 1.6, 1.7,\n",
       "       1.8, 1.9, 2. , 2.1, 2.2, 2.3, 2.4, 2.5, 2.6, 2.7, 2.8, 2.9, 3. ,\n",
       "       3.1, 3.2, 3.3, 3.4, 3.5, 3.6, 3.7, 3.8, 3.9, 4. , 4.1, 4.2, 4.3,\n",
       "       4.4, 4.5, 4.6, 4.7, 4.8, 4.9, 5. , 5.1, 5.2, 5.3, 5.4, 5.5, 5.6,\n",
       "       5.7, 5.8, 5.9, 6. , 6.1, 6.2, 6.3, 6.4, 6.5, 6.6, 6.7, 6.8, 6.9,\n",
       "       7. , 7.1, 7.2, 7.3, 7.4, 7.5, 7.6, 7.7, 7.8, 7.9, 8. , 8.1, 8.2,\n",
       "       8.3, 8.4, 8.5, 8.6, 8.7, 8.8, 8.9, 9. , 9.1, 9.2, 9.3, 9.4, 9.5,\n",
       "       9.6, 9.7, 9.8, 9.9])"
      ]
     },
     "execution_count": 13,
     "metadata": {},
     "output_type": "execute_result"
    }
   ],
   "execution_count": 13
  },
  {
   "metadata": {
    "ExecuteTime": {
     "end_time": "2024-07-14T09:13:22.755719Z",
     "start_time": "2024-07-14T09:13:22.728916Z"
    }
   },
   "cell_type": "code",
   "source": [
    "p = 1 / (1 + np.exp(-(classifier.coef_ * X_range + classifier.intercept_))) # y = mx + b\n",
    "p"
   ],
   "id": "a9cc2891f537c048",
   "outputs": [
    {
     "data": {
      "text/plain": [
       "array([[0.01035705, 0.01161247, 0.01301807, 0.0145913 , 0.01635149,\n",
       "        0.01832008, 0.02052073, 0.02297953, 0.02572521, 0.02878929,\n",
       "        0.03220626, 0.03601375, 0.04025264, 0.04496719, 0.05020505,\n",
       "        0.05601722, 0.06245802, 0.06958479, 0.07745757, 0.08613861,\n",
       "        0.09569165, 0.10618106, 0.11767067, 0.13022241, 0.14389468,\n",
       "        0.15874043, 0.17480509, 0.19212422, 0.2107211 , 0.23060425,\n",
       "        0.25176509, 0.27417574, 0.29778732, 0.32252874, 0.34830616,\n",
       "        0.3750034 , 0.40248315, 0.43058927, 0.45914989, 0.48798142,\n",
       "        0.51689314, 0.54569221, 0.57418876, 0.60220088, 0.6295591 ,\n",
       "        0.65611024, 0.68172044, 0.70627722, 0.72969059, 0.75189324,\n",
       "        0.77283994, 0.79250621, 0.81088652, 0.82799203, 0.84384828,\n",
       "        0.85849265, 0.871972  , 0.88434036, 0.89565683, 0.90598377,\n",
       "        0.91538521, 0.92392546, 0.93166808, 0.93867499, 0.9450058 ,\n",
       "        0.95071738, 0.95586346, 0.96049453, 0.96465764, 0.96839647,\n",
       "        0.97175136, 0.97475939, 0.97745455, 0.97986786, 0.9820276 ,\n",
       "        0.98395944, 0.98568665, 0.9872303 , 0.98860939, 0.98984107,\n",
       "        0.9909408 , 0.99192244, 0.99279849, 0.99358014, 0.99427745,\n",
       "        0.9948994 , 0.99545406, 0.99594865, 0.99638963, 0.99678276,\n",
       "        0.99713321, 0.99744558, 0.997724  , 0.99797213, 0.99819325]])"
      ]
     },
     "execution_count": 14,
     "metadata": {},
     "output_type": "execute_result"
    }
   ],
   "execution_count": 14
  },
  {
   "metadata": {
    "ExecuteTime": {
     "end_time": "2024-07-14T09:13:22.775679Z",
     "start_time": "2024-07-14T09:13:22.759714Z"
    }
   },
   "cell_type": "code",
   "source": "p.shape, X_range.shape",
   "id": "f8f0242e548e48f0",
   "outputs": [
    {
     "data": {
      "text/plain": [
       "((1, 95), (95,))"
      ]
     },
     "execution_count": 15,
     "metadata": {},
     "output_type": "execute_result"
    }
   ],
   "execution_count": 15
  },
  {
   "metadata": {
    "ExecuteTime": {
     "end_time": "2024-07-14T09:13:22.793851Z",
     "start_time": "2024-07-14T09:13:22.775679Z"
    }
   },
   "cell_type": "code",
   "source": [
    "p = p.reshape(-1) # 1차원 배열 형태로 변경\n",
    "p.shape"
   ],
   "id": "9127a4993aa6d22c",
   "outputs": [
    {
     "data": {
      "text/plain": [
       "(95,)"
      ]
     },
     "execution_count": 16,
     "metadata": {},
     "output_type": "execute_result"
    }
   ],
   "execution_count": 16
  },
  {
   "metadata": {
    "ExecuteTime": {
     "end_time": "2024-07-14T09:13:23.114482Z",
     "start_time": "2024-07-14T09:13:22.793851Z"
    }
   },
   "cell_type": "code",
   "source": [
    "plt.title(\"Probability by hours\")\n",
    "plt.scatter(X_train, y_train, color = \"blue\")\n",
    "plt.plot(X_range, p, color = \"orange\")\n",
    "plt.plot(X_range, np.full(len(X_range), 0.5), color = \"red\") # X_range 갯수 만큼 0.5로 가득찬 배열 만들기\n",
    "plt.xlabel(\"hours\")\n",
    "plt.ylabel(\"P\")\n",
    "plt.show()"
   ],
   "id": "c217c04e0802b40",
   "outputs": [
    {
     "data": {
      "text/plain": [
       "<Figure size 640x480 with 1 Axes>"
      ],
      "image/png": "[encoded data removed]"
     },
     "metadata": {},
     "output_type": "display_data"
    }
   ],
   "execution_count": 17
  },
  {
   "metadata": {},
   "cell_type": "markdown",
   "source": "### 데이터 시각화 (테스트 세트)",
   "id": "f8e0179bea2d1367"
  },
  {
   "metadata": {
    "ExecuteTime": {
     "end_time": "2024-07-14T09:13:23.315003Z",
     "start_time": "2024-07-14T09:13:23.114482Z"
    }
   },
   "cell_type": "code",
   "source": [
    "plt.title(\"Probability by hours - test\")\n",
    "plt.scatter(X_test, y_test, color = \"blue\")\n",
    "plt.plot(X_range, p, color = \"orange\")\n",
    "plt.plot(X_range, np.full(len(X_range), 0.5), color = \"red\") # X_range 갯수 만큼 0.5로 가득찬 배열 만들기\n",
    "plt.xlabel(\"hours\")\n",
    "plt.ylabel(\"P\")\n",
    "plt.show()"
   ],
   "id": "80839ee58bf93cb7",
   "outputs": [
    {
     "data": {
      "text/plain": [
       "<Figure size 640x480 with 1 Axes>"
      ],
      "image/png": "[encoded data removed]"
     },
     "metadata": {},
     "output_type": "display_data"
    }
   ],
   "execution_count": 18
  },
  {
   "metadata": {
    "ExecuteTime": {
     "end_time": "2024-07-14T09:13:23.329841Z",
     "start_time": "2024-07-14T09:13:23.315003Z"
    }
   },
   "cell_type": "code",
   "source": "classifier.predict_proba(([[4.5]])) # 4.5시간 공부했을 때 확률 (모델에서는 51%의 확률로 합격 예측, 실제로는 불합격)",
   "id": "36a67e7db74162e4",
   "outputs": [
    {
     "data": {
      "text/plain": [
       "array([[0.48310686, 0.51689314]])"
      ]
     },
     "execution_count": 19,
     "metadata": {},
     "output_type": "execute_result"
    }
   ],
   "execution_count": 19
  },
  {
   "metadata": {},
   "cell_type": "markdown",
   "source": "### 혼돈 행렬 (Confusion Matrix)",
   "id": "1e51ba414319045e"
  },
  {
   "metadata": {
    "ExecuteTime": {
     "end_time": "2024-07-14T09:13:23.348831Z",
     "start_time": "2024-07-14T09:13:23.329841Z"
    }
   },
   "cell_type": "code",
   "source": [
    "from sklearn.metrics import confusion_matrix\n",
    "cm = confusion_matrix(y_test, y_pred)\n",
    "cm"
   ],
   "id": "cd9f7b2e1594297",
   "outputs": [
    {
     "data": {
      "text/plain": [
       "array([[1, 1],\n",
       "       [0, 2]], dtype=int64)"
      ]
     },
     "execution_count": 20,
     "metadata": {},
     "output_type": "execute_result"
    }
   ],
   "execution_count": 20
  },
  {
   "metadata": {
    "ExecuteTime": {
     "end_time": "2024-07-14T09:14:49.771984Z",
     "start_time": "2024-07-14T09:14:49.755782Z"
    }
   },
   "cell_type": "code",
   "source": [
    "\"\"\"\n",
    "True-Negative (TN)     False-Positive (FP) \n",
    "불합격 - 예측            합격 - 예측\n",
    "불합격 - 실제            불합격 - 실제\n",
    "\n",
    "False-Negative (FN)    True-Positive (TP) \n",
    "불합격 - 예측            합격 - 예측\n",
    "합격 - 실제              합격 - 실제\n",
    "\"\"\""
   ],
   "id": "d503c323d03f08df",
   "outputs": [
    {
     "data": {
      "text/plain": [
       "'\\nTrue-Negative (TN)     False-Positive (FP) \\n불합격 - 예측            합격 - 예측\\n불합격 - 실제            불합격 - 실제\\n\\nFalse-Negative (FN)    True-Positive (TP) \\n불합격 - 예측            합격 - 예측\\n합격 - 실제              합격 - 실제\\n'"
      ]
     },
     "execution_count": 22,
     "metadata": {},
     "output_type": "execute_result"
    }
   ],
   "execution_count": 22
  }
 ],
 "metadata": {
  "kernelspec": {
   "display_name": "Python 3",
   "language": "python",
   "name": "python3"
  },
  "language_info": {
   "codemirror_mode": {
    "name": "ipython",
    "version": 2
   },
   "file_extension": ".py",
   "mimetype": "text/x-python",
   "name": "python",
   "nbconvert_exporter": "python",
   "pygments_lexer": "ipython2",
   "version": "2.7.6"
  }
 },
 "nbformat": 4,
 "nbformat_minor": 5
}
