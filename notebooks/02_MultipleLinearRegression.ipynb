{
 "cells": [
  {
   "metadata": {},
   "cell_type": "markdown",
   "source": "# 2. Multiple Linear Regression",
   "id": "d4d5d59dbaaf98ae"
  },
  {
   "metadata": {},
   "cell_type": "markdown",
   "source": "## One-hot encoding",
   "id": "4d3bcd3d84f933d0"
  },
  {
   "metadata": {
    "ExecuteTime": {
     "end_time": "2024-07-11T15:23:10.111072Z",
     "start_time": "2024-07-11T15:23:03.943368Z"
    }
   },
   "cell_type": "code",
   "source": [
    "import pandas as pd\n",
    "from sklearn.compose import ColumnTransformer\n",
    "from sklearn.preprocessing import OneHotEncoder"
   ],
   "id": "a5f8aa71a9b3aee",
   "outputs": [],
   "execution_count": 1
  },
  {
   "metadata": {
    "ExecuteTime": {
     "end_time": "2024-07-11T15:23:10.146754Z",
     "start_time": "2024-07-11T15:23:10.111072Z"
    }
   },
   "cell_type": "code",
   "source": [
    "dataset = pd.read_csv(\"../data/MultipleLinearRegressionData.csv\")\n",
    "X = dataset.iloc[:, :-1].values\n",
    "y = dataset.iloc[:, -1].values\n",
    "X"
   ],
   "id": "32ead5b5c702b4b6",
   "outputs": [
    {
     "data": {
      "text/plain": [
       "array([[0.5, 3, 'Home'],\n",
       "       [1.2, 4, 'Library'],\n",
       "       [1.8, 2, 'Cafe'],\n",
       "       [2.4, 0, 'Cafe'],\n",
       "       [2.6, 2, 'Home'],\n",
       "       [3.2, 0, 'Home'],\n",
       "       [3.9, 0, 'Library'],\n",
       "       [4.4, 0, 'Library'],\n",
       "       [4.5, 5, 'Home'],\n",
       "       [5.0, 1, 'Cafe'],\n",
       "       [5.3, 2, 'Cafe'],\n",
       "       [5.8, 0, 'Cafe'],\n",
       "       [6.0, 3, 'Library'],\n",
       "       [6.1, 1, 'Cafe'],\n",
       "       [6.2, 1, 'Library'],\n",
       "       [6.9, 4, 'Home'],\n",
       "       [7.2, 2, 'Cafe'],\n",
       "       [8.4, 1, 'Home'],\n",
       "       [8.6, 1, 'Library'],\n",
       "       [10.0, 0, 'Library']], dtype=object)"
      ]
     },
     "execution_count": 2,
     "metadata": {},
     "output_type": "execute_result"
    }
   ],
   "execution_count": 2
  },
  {
   "metadata": {
    "ExecuteTime": {
     "end_time": "2024-07-11T15:23:10.164030Z",
     "start_time": "2024-07-11T15:23:10.146754Z"
    }
   },
   "cell_type": "code",
   "source": [
    "ct = ColumnTransformer(transformers = [(\"encoder\", OneHotEncoder(drop = \"first\"), [2])], remainder = \"passthrough\")\n",
    "X = ct.fit_transform(X)\n",
    "X\n",
    "\n",
    "# 1 0 : Home\n",
    "# 0 1 : Library\n",
    "# 0 0 : Cafe"
   ],
   "id": "a978b5f81ac93f7b",
   "outputs": [
    {
     "data": {
      "text/plain": [
       "array([[1.0, 0.0, 0.5, 3],\n",
       "       [0.0, 1.0, 1.2, 4],\n",
       "       [0.0, 0.0, 1.8, 2],\n",
       "       [0.0, 0.0, 2.4, 0],\n",
       "       [1.0, 0.0, 2.6, 2],\n",
       "       [1.0, 0.0, 3.2, 0],\n",
       "       [0.0, 1.0, 3.9, 0],\n",
       "       [0.0, 1.0, 4.4, 0],\n",
       "       [1.0, 0.0, 4.5, 5],\n",
       "       [0.0, 0.0, 5.0, 1],\n",
       "       [0.0, 0.0, 5.3, 2],\n",
       "       [0.0, 0.0, 5.8, 0],\n",
       "       [0.0, 1.0, 6.0, 3],\n",
       "       [0.0, 0.0, 6.1, 1],\n",
       "       [0.0, 1.0, 6.2, 1],\n",
       "       [1.0, 0.0, 6.9, 4],\n",
       "       [0.0, 0.0, 7.2, 2],\n",
       "       [1.0, 0.0, 8.4, 1],\n",
       "       [0.0, 1.0, 8.6, 1],\n",
       "       [0.0, 1.0, 10.0, 0]], dtype=object)"
      ]
     },
     "execution_count": 3,
     "metadata": {},
     "output_type": "execute_result"
    }
   ],
   "execution_count": 3
  }
 ],
 "metadata": {
  "kernelspec": {
   "display_name": "Python 3",
   "language": "python",
   "name": "python3"
  },
  "language_info": {
   "codemirror_mode": {
    "name": "ipython",
    "version": 2
   },
   "file_extension": ".py",
   "mimetype": "text/x-python",
   "name": "python",
   "nbconvert_exporter": "python",
   "pygments_lexer": "ipython2",
   "version": "2.7.6"
  }
 },
 "nbformat": 4,
 "nbformat_minor": 5
}
